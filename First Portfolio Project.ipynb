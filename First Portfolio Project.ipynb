{
 "cells": [
  {
   "cell_type": "markdown",
   "metadata": {},
   "source": [
    "# Salary Predictions Based on Job Descriptions"
   ]
  },
  {
   "cell_type": "markdown",
   "metadata": {},
   "source": [
    "# Part 1 - DEFINE"
   ]
  },
  {
   "cell_type": "code",
   "execution_count": null,
   "metadata": {},
   "outputs": [],
   "source": []
  },
  {
   "cell_type": "markdown",
   "metadata": {},
   "source": [
    "### ---- 1 Define the problem ----"
   ]
  },
  {
   "cell_type": "markdown",
   "metadata": {},
   "source": [
    "Write the problem in your own words here"
   ]
  },
  {
   "cell_type": "markdown",
   "metadata": {},
   "source": [
    "We want to predict the salary of a professional based on the data we are given. The data gives us information of the individual's jobID, companyID, the type of job, degree, major, industry (ALL categorical features) and years of experience and miles from Metropolis (numerical features)."
   ]
  },
  {
   "cell_type": "code",
   "execution_count": 43,
   "metadata": {},
   "outputs": [],
   "source": [
    "#import your libraries\n",
    "import pandas as pd\n",
    "import sklearn as sk\n",
    "import numpy as np\n",
    "from matplotlib import pyplot as plt\n",
    "from sklearn import preprocessing\n",
    "from sklearn import linear_model\n",
    "from sklearn.tree import DecisionTreeRegressor\n",
    "from sklearn.ensemble import RandomForestRegressor\n",
    "from sklearn.model_selection import cross_val_score\n",
    "from sklearn import ensemble\n",
    "from sklearn.ensemble import AdaBoostRegressor\n",
    "#etc\n",
    "\n",
    "#your info here\n",
    "__author__ = \"Thu Nguyen\"\n",
    "__email__ = \"thumn6@uci.edu\""
   ]
  },
  {
   "cell_type": "markdown",
   "metadata": {},
   "source": [
    "## Part 2 - DISCOVER"
   ]
  },
  {
   "cell_type": "markdown",
   "metadata": {},
   "source": [
    "### ---- 2 Load the data ----"
   ]
  },
  {
   "cell_type": "code",
   "execution_count": 2,
   "metadata": {},
   "outputs": [
    {
     "name": "stdout",
     "output_type": "stream",
     "text": [
      "(1000000, 8)\n"
     ]
    },
    {
     "data": {
      "text/html": [
       "<div>\n",
       "<style scoped>\n",
       "    .dataframe tbody tr th:only-of-type {\n",
       "        vertical-align: middle;\n",
       "    }\n",
       "\n",
       "    .dataframe tbody tr th {\n",
       "        vertical-align: top;\n",
       "    }\n",
       "\n",
       "    .dataframe thead th {\n",
       "        text-align: right;\n",
       "    }\n",
       "</style>\n",
       "<table border=\"1\" class=\"dataframe\">\n",
       "  <thead>\n",
       "    <tr style=\"text-align: right;\">\n",
       "      <th></th>\n",
       "      <th>jobId</th>\n",
       "      <th>companyId</th>\n",
       "      <th>jobType</th>\n",
       "      <th>degree</th>\n",
       "      <th>major</th>\n",
       "      <th>industry</th>\n",
       "      <th>yearsExperience</th>\n",
       "      <th>milesFromMetropolis</th>\n",
       "    </tr>\n",
       "  </thead>\n",
       "  <tbody>\n",
       "    <tr>\n",
       "      <th>0</th>\n",
       "      <td>JOB1362684407687</td>\n",
       "      <td>COMP37</td>\n",
       "      <td>CFO</td>\n",
       "      <td>MASTERS</td>\n",
       "      <td>MATH</td>\n",
       "      <td>HEALTH</td>\n",
       "      <td>10</td>\n",
       "      <td>83</td>\n",
       "    </tr>\n",
       "    <tr>\n",
       "      <th>1</th>\n",
       "      <td>JOB1362684407688</td>\n",
       "      <td>COMP19</td>\n",
       "      <td>CEO</td>\n",
       "      <td>HIGH_SCHOOL</td>\n",
       "      <td>NONE</td>\n",
       "      <td>WEB</td>\n",
       "      <td>3</td>\n",
       "      <td>73</td>\n",
       "    </tr>\n",
       "    <tr>\n",
       "      <th>2</th>\n",
       "      <td>JOB1362684407689</td>\n",
       "      <td>COMP52</td>\n",
       "      <td>VICE_PRESIDENT</td>\n",
       "      <td>DOCTORAL</td>\n",
       "      <td>PHYSICS</td>\n",
       "      <td>HEALTH</td>\n",
       "      <td>10</td>\n",
       "      <td>38</td>\n",
       "    </tr>\n",
       "    <tr>\n",
       "      <th>3</th>\n",
       "      <td>JOB1362684407690</td>\n",
       "      <td>COMP38</td>\n",
       "      <td>MANAGER</td>\n",
       "      <td>DOCTORAL</td>\n",
       "      <td>CHEMISTRY</td>\n",
       "      <td>AUTO</td>\n",
       "      <td>8</td>\n",
       "      <td>17</td>\n",
       "    </tr>\n",
       "    <tr>\n",
       "      <th>4</th>\n",
       "      <td>JOB1362684407691</td>\n",
       "      <td>COMP7</td>\n",
       "      <td>VICE_PRESIDENT</td>\n",
       "      <td>BACHELORS</td>\n",
       "      <td>PHYSICS</td>\n",
       "      <td>FINANCE</td>\n",
       "      <td>8</td>\n",
       "      <td>16</td>\n",
       "    </tr>\n",
       "  </tbody>\n",
       "</table>\n",
       "</div>"
      ],
      "text/plain": [
       "              jobId companyId         jobType       degree      major  \\\n",
       "0  JOB1362684407687    COMP37             CFO      MASTERS       MATH   \n",
       "1  JOB1362684407688    COMP19             CEO  HIGH_SCHOOL       NONE   \n",
       "2  JOB1362684407689    COMP52  VICE_PRESIDENT     DOCTORAL    PHYSICS   \n",
       "3  JOB1362684407690    COMP38         MANAGER     DOCTORAL  CHEMISTRY   \n",
       "4  JOB1362684407691     COMP7  VICE_PRESIDENT    BACHELORS    PHYSICS   \n",
       "\n",
       "  industry  yearsExperience  milesFromMetropolis  \n",
       "0   HEALTH               10                   83  \n",
       "1      WEB                3                   73  \n",
       "2   HEALTH               10                   38  \n",
       "3     AUTO                8                   17  \n",
       "4  FINANCE                8                   16  "
      ]
     },
     "execution_count": 2,
     "metadata": {},
     "output_type": "execute_result"
    }
   ],
   "source": [
    "#load the data into a Pandas dataframe\n",
    "train_features = pd.read_csv(\"./data/train_features.csv\")\n",
    "train_salaries = pd.read_csv(\"./data/train_salaries.csv\")\n",
    "print(train_features.shape)\n",
    "train_features.head()\n"
   ]
  },
  {
   "cell_type": "code",
   "execution_count": null,
   "metadata": {},
   "outputs": [],
   "source": []
  },
  {
   "cell_type": "code",
   "execution_count": 3,
   "metadata": {},
   "outputs": [
    {
     "data": {
      "text/html": [
       "<div>\n",
       "<style scoped>\n",
       "    .dataframe tbody tr th:only-of-type {\n",
       "        vertical-align: middle;\n",
       "    }\n",
       "\n",
       "    .dataframe tbody tr th {\n",
       "        vertical-align: top;\n",
       "    }\n",
       "\n",
       "    .dataframe thead th {\n",
       "        text-align: right;\n",
       "    }\n",
       "</style>\n",
       "<table border=\"1\" class=\"dataframe\">\n",
       "  <thead>\n",
       "    <tr style=\"text-align: right;\">\n",
       "      <th></th>\n",
       "      <th>jobId</th>\n",
       "      <th>salary</th>\n",
       "    </tr>\n",
       "  </thead>\n",
       "  <tbody>\n",
       "    <tr>\n",
       "      <th>0</th>\n",
       "      <td>JOB1362684407687</td>\n",
       "      <td>130</td>\n",
       "    </tr>\n",
       "    <tr>\n",
       "      <th>1</th>\n",
       "      <td>JOB1362684407688</td>\n",
       "      <td>101</td>\n",
       "    </tr>\n",
       "    <tr>\n",
       "      <th>2</th>\n",
       "      <td>JOB1362684407689</td>\n",
       "      <td>137</td>\n",
       "    </tr>\n",
       "    <tr>\n",
       "      <th>3</th>\n",
       "      <td>JOB1362684407690</td>\n",
       "      <td>142</td>\n",
       "    </tr>\n",
       "    <tr>\n",
       "      <th>4</th>\n",
       "      <td>JOB1362684407691</td>\n",
       "      <td>163</td>\n",
       "    </tr>\n",
       "  </tbody>\n",
       "</table>\n",
       "</div>"
      ],
      "text/plain": [
       "              jobId  salary\n",
       "0  JOB1362684407687     130\n",
       "1  JOB1362684407688     101\n",
       "2  JOB1362684407689     137\n",
       "3  JOB1362684407690     142\n",
       "4  JOB1362684407691     163"
      ]
     },
     "execution_count": 3,
     "metadata": {},
     "output_type": "execute_result"
    }
   ],
   "source": [
    "train_salaries.head()"
   ]
  },
  {
   "cell_type": "markdown",
   "metadata": {},
   "source": [
    "### ---- 3 Clean the data ----"
   ]
  },
  {
   "cell_type": "code",
   "execution_count": 4,
   "metadata": {},
   "outputs": [],
   "source": [
    "#look for duplicate data, invalid data (e.g. salaries <=0), or corrupt data and remove it\n",
    "# Making a list of missing value types\n",
    "\n",
    "missing_values = [\"n/a\", \"na\", \"--\"]\n",
    "train_features = pd.read_csv(\"./data/train_features.csv\", na_values=missing_values);\n",
    "train_salaries = pd.read_csv(\"./data/train_salaries.csv\", na_values=missing_values);\n"
   ]
  },
  {
   "cell_type": "code",
   "execution_count": 5,
   "metadata": {},
   "outputs": [
    {
     "name": "stdout",
     "output_type": "stream",
     "text": [
      "jobId                  0\n",
      "companyId              0\n",
      "jobType                0\n",
      "degree                 0\n",
      "major                  0\n",
      "industry               0\n",
      "yearsExperience        0\n",
      "milesFromMetropolis    0\n",
      "dtype: int64\n",
      "False\n",
      "0\n"
     ]
    }
   ],
   "source": [
    "# Summary of any missing values\n",
    "print (train_features.isnull().sum())\n",
    "# Check to see if there is any missing values\n",
    "print (train_features.isnull().values.any())\n",
    "# Total number of missing values\n",
    "print (train_features.isnull().sum().sum())"
   ]
  },
  {
   "cell_type": "code",
   "execution_count": 6,
   "metadata": {},
   "outputs": [
    {
     "data": {
      "text/plain": [
       "<matplotlib.axes._subplots.AxesSubplot at 0x1a1ca361d0>"
      ]
     },
     "execution_count": 6,
     "metadata": {},
     "output_type": "execute_result"
    },
    {
     "data": {
      "image/png": "[encoded data removed]",
      "text/plain": [
       "<Figure size 2160x720 with 2 Axes>"
      ]
     },
     "metadata": {
      "needs_background": "light"
     },
     "output_type": "display_data"
    }
   ],
   "source": [
    "import missingno as msno\n",
    "msno.matrix(train_features, figsize=(30,10))"
   ]
  },
  {
   "cell_type": "markdown",
   "metadata": {},
   "source": [
    "### ---- 4 Explore the data (EDA) ----"
   ]
  },
  {
   "cell_type": "code",
   "execution_count": 7,
   "metadata": {},
   "outputs": [
    {
     "name": "stdout",
     "output_type": "stream",
     "text": [
      "count    1000000.000000\n",
      "mean          11.992386\n",
      "std            7.212391\n",
      "min            0.000000\n",
      "25%            6.000000\n",
      "50%           12.000000\n",
      "75%           18.000000\n",
      "max           24.000000\n",
      "Name: yearsExperience, dtype: float64\n",
      "count    1000000.000000\n",
      "mean          49.529260\n",
      "std           28.877733\n",
      "min            0.000000\n",
      "25%           25.000000\n",
      "50%           50.000000\n",
      "75%           75.000000\n",
      "max           99.000000\n",
      "Name: milesFromMetropolis, dtype: float64\n",
      "count    1000000.000000\n",
      "mean         116.061818\n",
      "std           38.717936\n",
      "min            0.000000\n",
      "25%           88.000000\n",
      "50%          114.000000\n",
      "75%          141.000000\n",
      "max          301.000000\n",
      "Name: salary, dtype: float64\n"
     ]
    }
   ],
   "source": [
    "#summarize each feature variable\n",
    "print(pd.DataFrame.describe(train_features['yearsExperience']))\n",
    "print(pd.DataFrame.describe(train_features['milesFromMetropolis']))\n",
    "#summarize the target variable\n",
    "print(pd.DataFrame.describe(train_salaries['salary']))\n",
    "#look for correlation between each feature and the target\n",
    "\n",
    "#look for correlation between features"
   ]
  },
  {
   "cell_type": "code",
   "execution_count": 8,
   "metadata": {},
   "outputs": [
    {
     "data": {
      "image/png": "[encoded data removed]",
      "text/plain": [
       "<Figure size 288x288 with 1 Axes>"
      ]
     },
     "metadata": {
      "needs_background": "light"
     },
     "output_type": "display_data"
    }
   ],
   "source": [
    "plt.matshow(train_features.corr())\n",
    "plt.show()"
   ]
  },
  {
   "cell_type": "markdown",
   "metadata": {},
   "source": [
    "### Look for outliers"
   ]
  },
  {
   "cell_type": "code",
   "execution_count": 9,
   "metadata": {},
   "outputs": [
    {
     "data": {
      "text/plain": [
       "<matplotlib.axes._subplots.AxesSubplot at 0x1a5c609a58>"
      ]
     },
     "execution_count": 9,
     "metadata": {},
     "output_type": "execute_result"
    },
    {
     "data": {
      "image/png": "[encoded data removed]",
      "text/plain": [
       "<Figure size 432x288 with 1 Axes>"
      ]
     },
     "metadata": {
      "needs_background": "light"
     },
     "output_type": "display_data"
    }
   ],
   "source": [
    "\n",
    "train_salaries.salary.plot.hist()\n"
   ]
  },
  {
   "cell_type": "code",
   "execution_count": 10,
   "metadata": {},
   "outputs": [
    {
     "data": {
      "text/plain": [
       "<matplotlib.axes._subplots.AxesSubplot at 0x1a1feb7be0>"
      ]
     },
     "execution_count": 10,
     "metadata": {},
     "output_type": "execute_result"
    },
    {
     "data": {
      "image/png": "[encoded data removed]",
      "text/plain": [
       "<Figure size 432x288 with 1 Axes>"
      ]
     },
     "metadata": {
      "needs_background": "light"
     },
     "output_type": "display_data"
    }
   ],
   "source": [
    "train_features.yearsExperience.plot.hist()"
   ]
  },
  {
   "cell_type": "code",
   "execution_count": 11,
   "metadata": {},
   "outputs": [
    {
     "data": {
      "text/plain": [
       "<matplotlib.axes._subplots.AxesSubplot at 0x1a20728048>"
      ]
     },
     "execution_count": 11,
     "metadata": {},
     "output_type": "execute_result"
    },
    {
     "data": {
      "image/png": "[encoded data removed]",
      "text/plain": [
       "<Figure size 432x288 with 1 Axes>"
      ]
     },
     "metadata": {
      "needs_background": "light"
     },
     "output_type": "display_data"
    }
   ],
   "source": [
    "train_features.milesFromMetropolis.plot.hist()"
   ]
  },
  {
   "cell_type": "markdown",
   "metadata": {},
   "source": [
    "### ---- 5 Establish a baseline ----"
   ]
  },
  {
   "cell_type": "code",
   "execution_count": 12,
   "metadata": {},
   "outputs": [],
   "source": [
    "#select a reasonable metric (MSE in this case)\n",
    "from sklearn.metrics import mean_squared_error\n",
    "#create an extremely simple model and measure its efficacy\n",
    "from sklearn.linear_model import LinearRegression\n",
    "\n",
    "def baselineModel(train_features, train_salaries):\n",
    "    \n",
    "    industry_salary = pd.merge(train_features,train_salaries);\n",
    "    industry_vs_salary = industry_salary.groupby(['industry']).mean();\n",
    "    return industry_vs_salary;\n",
    "\n",
    "\n",
    "#e.g. use \"average salary\" for each industry as your model and then measure MSE\n",
    "\n",
    "\n",
    "#during 5-fold cross-validation\n",
    "from sklearn.model_selection import train_test_split\n",
    "\n",
    "\n",
    "X_train, X_test, y_train, y_test = train_test_split(train_features, train_salaries, test_size=0.4, random_state=0)\n",
    "industry_vs_salary = baselineModel(X_train, y_train);"
   ]
  },
  {
   "cell_type": "code",
   "execution_count": 13,
   "metadata": {},
   "outputs": [
    {
     "data": {
      "text/plain": [
       "((600000, 8), (600000, 2))"
      ]
     },
     "execution_count": 13,
     "metadata": {},
     "output_type": "execute_result"
    }
   ],
   "source": [
    "X_train.shape, y_train.shape"
   ]
  },
  {
   "cell_type": "code",
   "execution_count": 14,
   "metadata": {},
   "outputs": [
    {
     "data": {
      "text/plain": [
       "((400000, 8), (400000, 2))"
      ]
     },
     "execution_count": 14,
     "metadata": {},
     "output_type": "execute_result"
    }
   ],
   "source": [
    "X_test.shape, y_test.shape"
   ]
  },
  {
   "cell_type": "code",
   "execution_count": 15,
   "metadata": {},
   "outputs": [
    {
     "name": "stdout",
     "output_type": "stream",
     "text": [
      "                   jobId companyId         jobType       degree        major  \\\n",
      "0       JOB1362684564792     COMP1         MANAGER    BACHELORS         NONE   \n",
      "1       JOB1362685363102    COMP47          JUNIOR    BACHELORS      PHYSICS   \n",
      "2       JOB1362684742345    COMP16             CTO    BACHELORS    CHEMISTRY   \n",
      "3       JOB1362684537977     COMP0          JUNIOR  HIGH_SCHOOL         NONE   \n",
      "4       JOB1362684499426     COMP2          JUNIOR         NONE         NONE   \n",
      "5       JOB1362684982679    COMP14             CFO    BACHELORS    CHEMISTRY   \n",
      "6       JOB1362685113133    COMP52             CTO      MASTERS  ENGINEERING   \n",
      "7       JOB1362684724050    COMP35         MANAGER     DOCTORAL         NONE   \n",
      "8       JOB1362684685551    COMP15             CTO    BACHELORS      BIOLOGY   \n",
      "9       JOB1362684995750    COMP51  VICE_PRESIDENT         NONE         NONE   \n",
      "10      JOB1362684994651    COMP36         MANAGER     DOCTORAL    CHEMISTRY   \n",
      "11      JOB1362684637082    COMP30         MANAGER  HIGH_SCHOOL         NONE   \n",
      "12      JOB1362684412985    COMP53  VICE_PRESIDENT     DOCTORAL         MATH   \n",
      "13      JOB1362685059960    COMP10         MANAGER         NONE         NONE   \n",
      "14      JOB1362684442614    COMP52             CTO         NONE         NONE   \n",
      "15      JOB1362685019549    COMP50          JUNIOR      MASTERS   LITERATURE   \n",
      "16      JOB1362685248035    COMP36             CTO  HIGH_SCHOOL         NONE   \n",
      "17      JOB1362684957721    COMP30         JANITOR         NONE         NONE   \n",
      "18      JOB1362685033860    COMP54  VICE_PRESIDENT     DOCTORAL      PHYSICS   \n",
      "19      JOB1362684476381    COMP12             CEO  HIGH_SCHOOL         NONE   \n",
      "20      JOB1362685217429     COMP4         MANAGER    BACHELORS     BUSINESS   \n",
      "21      JOB1362685239850    COMP18  VICE_PRESIDENT    BACHELORS      COMPSCI   \n",
      "22      JOB1362684512228    COMP52             CTO    BACHELORS         MATH   \n",
      "23      JOB1362684857211    COMP41             CTO      MASTERS      BIOLOGY   \n",
      "24      JOB1362684615517    COMP56             CTO    BACHELORS  ENGINEERING   \n",
      "25      JOB1362684922110    COMP37             CEO  HIGH_SCHOOL         NONE   \n",
      "26      JOB1362684649013    COMP55          JUNIOR     DOCTORAL      BIOLOGY   \n",
      "27      JOB1362685221715    COMP29             CTO     DOCTORAL         MATH   \n",
      "28      JOB1362684498803    COMP50          SENIOR      MASTERS      PHYSICS   \n",
      "29      JOB1362685262855     COMP7         JANITOR  HIGH_SCHOOL         NONE   \n",
      "...                  ...       ...             ...          ...          ...   \n",
      "399970  JOB1362684585320    COMP52          SENIOR     DOCTORAL      BIOLOGY   \n",
      "399971  JOB1362684801092    COMP23          SENIOR    BACHELORS      COMPSCI   \n",
      "399972  JOB1362685261442    COMP19  VICE_PRESIDENT     DOCTORAL  ENGINEERING   \n",
      "399973  JOB1362685383890     COMP0             CFO      MASTERS    CHEMISTRY   \n",
      "399974  JOB1362684872727     COMP2          SENIOR     DOCTORAL   LITERATURE   \n",
      "399975  JOB1362685076386    COMP34             CTO    BACHELORS      COMPSCI   \n",
      "399976  JOB1362684686930    COMP30         JANITOR  HIGH_SCHOOL         NONE   \n",
      "399977  JOB1362685263046    COMP49          SENIOR      MASTERS      PHYSICS   \n",
      "399978  JOB1362684937176    COMP18             CFO         NONE         NONE   \n",
      "399979  JOB1362684795931    COMP27             CEO         NONE         NONE   \n",
      "399980  JOB1362684831078    COMP51         MANAGER     DOCTORAL    CHEMISTRY   \n",
      "399981  JOB1362685360362    COMP15             CTO     DOCTORAL  ENGINEERING   \n",
      "399982  JOB1362684867310    COMP34         JANITOR  HIGH_SCHOOL         NONE   \n",
      "399983  JOB1362685317873    COMP32         MANAGER      MASTERS      COMPSCI   \n",
      "399984  JOB1362684925878     COMP1             CFO    BACHELORS  ENGINEERING   \n",
      "399985  JOB1362685003424    COMP17             CFO      MASTERS    CHEMISTRY   \n",
      "399986  JOB1362685390645     COMP6          SENIOR  HIGH_SCHOOL         NONE   \n",
      "399987  JOB1362685271940    COMP37             CTO  HIGH_SCHOOL         NONE   \n",
      "399988  JOB1362685209801    COMP46          JUNIOR    BACHELORS     BUSINESS   \n",
      "399989  JOB1362684987461    COMP61          SENIOR  HIGH_SCHOOL         NONE   \n",
      "399990  JOB1362684940674    COMP25         JANITOR  HIGH_SCHOOL         NONE   \n",
      "399991  JOB1362684906769     COMP4         MANAGER      MASTERS      BIOLOGY   \n",
      "399992  JOB1362685229610    COMP21          SENIOR         NONE         NONE   \n",
      "399993  JOB1362684561737    COMP31          SENIOR      MASTERS         MATH   \n",
      "399994  JOB1362685013487    COMP52          JUNIOR    BACHELORS      COMPSCI   \n",
      "399995  JOB1362685295771    COMP13             CFO      MASTERS      BIOLOGY   \n",
      "399996  JOB1362685347917    COMP51             CEO  HIGH_SCHOOL         NONE   \n",
      "399997  JOB1362684858523    COMP27          JUNIOR  HIGH_SCHOOL         NONE   \n",
      "399998  JOB1362684745228    COMP34          SENIOR      MASTERS         MATH   \n",
      "399999  JOB1362684576041    COMP31             CTO     DOCTORAL     BUSINESS   \n",
      "\n",
      "         industry  yearsExperience_x  milesFromMetropolis_x  \\\n",
      "0       EDUCATION                  5                      3   \n",
      "1       EDUCATION                  9                     99   \n",
      "2       EDUCATION                 13                     90   \n",
      "3       EDUCATION                  9                      6   \n",
      "4       EDUCATION                 18                     22   \n",
      "5       EDUCATION                  4                     76   \n",
      "6       EDUCATION                  0                     46   \n",
      "7       EDUCATION                 16                     29   \n",
      "8       EDUCATION                  0                     75   \n",
      "9       EDUCATION                 15                     32   \n",
      "10      EDUCATION                  3                     82   \n",
      "11      EDUCATION                 20                     90   \n",
      "12      EDUCATION                 21                     20   \n",
      "13      EDUCATION                 18                      2   \n",
      "14      EDUCATION                  1                     41   \n",
      "15      EDUCATION                  4                     70   \n",
      "16      EDUCATION                  2                     16   \n",
      "17      EDUCATION                 19                      7   \n",
      "18      EDUCATION                 14                      4   \n",
      "19      EDUCATION                  0                     42   \n",
      "20      EDUCATION                  2                     98   \n",
      "21      EDUCATION                 14                     18   \n",
      "22      EDUCATION                 24                     47   \n",
      "23      EDUCATION                 17                     52   \n",
      "24      EDUCATION                  8                     73   \n",
      "25      EDUCATION                  9                     44   \n",
      "26      EDUCATION                  6                     72   \n",
      "27      EDUCATION                  2                     55   \n",
      "28      EDUCATION                  5                     47   \n",
      "29      EDUCATION                  0                     49   \n",
      "...           ...                ...                    ...   \n",
      "399970    FINANCE                 13                     46   \n",
      "399971    FINANCE                  1                      0   \n",
      "399972    FINANCE                 21                     62   \n",
      "399973    FINANCE                 14                     71   \n",
      "399974    FINANCE                  7                     50   \n",
      "399975    FINANCE                 11                     48   \n",
      "399976    FINANCE                 12                     98   \n",
      "399977    FINANCE                 16                     59   \n",
      "399978    FINANCE                 23                     42   \n",
      "399979    FINANCE                 22                     53   \n",
      "399980    FINANCE                  9                     27   \n",
      "399981    FINANCE                 23                     32   \n",
      "399982    FINANCE                  7                      7   \n",
      "399983    FINANCE                  9                     84   \n",
      "399984    FINANCE                 21                     19   \n",
      "399985    FINANCE                 16                     92   \n",
      "399986    FINANCE                 10                     88   \n",
      "399987    FINANCE                 17                     85   \n",
      "399988    FINANCE                 24                     38   \n",
      "399989    FINANCE                 21                     86   \n",
      "399990    FINANCE                 13                     15   \n",
      "399991    FINANCE                 19                     97   \n",
      "399992    FINANCE                 13                     66   \n",
      "399993    FINANCE                 17                     14   \n",
      "399994    FINANCE                  2                     50   \n",
      "399995    FINANCE                 18                     64   \n",
      "399996    FINANCE                  9                     10   \n",
      "399997    FINANCE                 17                     72   \n",
      "399998    FINANCE                  1                     48   \n",
      "399999    FINANCE                 20                     88   \n",
      "\n",
      "        yearsExperience_y  milesFromMetropolis_y      salary  \n",
      "0               11.990980              49.661384   99.365397  \n",
      "1               11.990980              49.661384   99.365397  \n",
      "2               11.990980              49.661384   99.365397  \n",
      "3               11.990980              49.661384   99.365397  \n",
      "4               11.990980              49.661384   99.365397  \n",
      "5               11.990980              49.661384   99.365397  \n",
      "6               11.990980              49.661384   99.365397  \n",
      "7               11.990980              49.661384   99.365397  \n",
      "8               11.990980              49.661384   99.365397  \n",
      "9               11.990980              49.661384   99.365397  \n",
      "10              11.990980              49.661384   99.365397  \n",
      "11              11.990980              49.661384   99.365397  \n",
      "12              11.990980              49.661384   99.365397  \n",
      "13              11.990980              49.661384   99.365397  \n",
      "14              11.990980              49.661384   99.365397  \n",
      "15              11.990980              49.661384   99.365397  \n",
      "16              11.990980              49.661384   99.365397  \n",
      "17              11.990980              49.661384   99.365397  \n",
      "18              11.990980              49.661384   99.365397  \n",
      "19              11.990980              49.661384   99.365397  \n",
      "20              11.990980              49.661384   99.365397  \n",
      "21              11.990980              49.661384   99.365397  \n",
      "22              11.990980              49.661384   99.365397  \n",
      "23              11.990980              49.661384   99.365397  \n",
      "24              11.990980              49.661384   99.365397  \n",
      "25              11.990980              49.661384   99.365397  \n",
      "26              11.990980              49.661384   99.365397  \n",
      "27              11.990980              49.661384   99.365397  \n",
      "28              11.990980              49.661384   99.365397  \n",
      "29              11.990980              49.661384   99.365397  \n",
      "...                   ...                    ...         ...  \n",
      "399970          12.004058              49.484566  130.788749  \n",
      "399971          12.004058              49.484566  130.788749  \n",
      "399972          12.004058              49.484566  130.788749  \n",
      "399973          12.004058              49.484566  130.788749  \n",
      "399974          12.004058              49.484566  130.788749  \n",
      "399975          12.004058              49.484566  130.788749  \n",
      "399976          12.004058              49.484566  130.788749  \n",
      "399977          12.004058              49.484566  130.788749  \n",
      "399978          12.004058              49.484566  130.788749  \n",
      "399979          12.004058              49.484566  130.788749  \n",
      "399980          12.004058              49.484566  130.788749  \n",
      "399981          12.004058              49.484566  130.788749  \n",
      "399982          12.004058              49.484566  130.788749  \n",
      "399983          12.004058              49.484566  130.788749  \n",
      "399984          12.004058              49.484566  130.788749  \n",
      "399985          12.004058              49.484566  130.788749  \n",
      "399986          12.004058              49.484566  130.788749  \n",
      "399987          12.004058              49.484566  130.788749  \n",
      "399988          12.004058              49.484566  130.788749  \n",
      "399989          12.004058              49.484566  130.788749  \n",
      "399990          12.004058              49.484566  130.788749  \n",
      "399991          12.004058              49.484566  130.788749  \n",
      "399992          12.004058              49.484566  130.788749  \n",
      "399993          12.004058              49.484566  130.788749  \n",
      "399994          12.004058              49.484566  130.788749  \n",
      "399995          12.004058              49.484566  130.788749  \n",
      "399996          12.004058              49.484566  130.788749  \n",
      "399997          12.004058              49.484566  130.788749  \n",
      "399998          12.004058              49.484566  130.788749  \n",
      "399999          12.004058              49.484566  130.788749  \n",
      "\n",
      "[400000 rows x 11 columns]\n"
     ]
    }
   ],
   "source": [
    "predicted_salary = pd.merge(X_test, industry_vs_salary, on ='industry')\n",
    "print(predicted_salary)\n",
    "#print(industry_vs_salary)"
   ]
  },
  {
   "cell_type": "code",
   "execution_count": 16,
   "metadata": {},
   "outputs": [
    {
     "name": "stdout",
     "output_type": "stream",
     "text": [
      "1628.423195165752\n"
     ]
    }
   ],
   "source": [
    "from sklearn.metrics import mean_squared_error\n",
    "baseline_mse = mean_squared_error(y_test['salary'], predicted_salary['salary'])\n",
    "print(baseline_mse)"
   ]
  },
  {
   "cell_type": "markdown",
   "metadata": {},
   "source": [
    "### ---- 6 Hypothesize solution ----"
   ]
  },
  {
   "cell_type": "markdown",
   "metadata": {},
   "source": [
    "#### Drop columns that might be irrelevant to salaries, like jobID and companyID"
   ]
  },
  {
   "cell_type": "code",
   "execution_count": 17,
   "metadata": {},
   "outputs": [],
   "source": [
    "train_features = train_features.drop(columns=['jobId', 'companyId'])"
   ]
  },
  {
   "cell_type": "code",
   "execution_count": 18,
   "metadata": {},
   "outputs": [
    {
     "data": {
      "text/plain": [
       "(1000000, 6)"
      ]
     },
     "execution_count": 18,
     "metadata": {},
     "output_type": "execute_result"
    }
   ],
   "source": [
    "train_features.shape"
   ]
  },
  {
   "cell_type": "markdown",
   "metadata": {},
   "source": [
    "#### Convert the categorical features into numerical"
   ]
  },
  {
   "cell_type": "code",
   "execution_count": 19,
   "metadata": {},
   "outputs": [],
   "source": [
    "cat_features = ['jobType', 'degree', 'major', 'industry'];\n",
    "for cat in cat_features:\n",
    "    train_features[cat] = preprocessing.LabelEncoder().fit_transform(train_features[cat])\n",
    "\n",
    "\n",
    "train_feature, test_feature, train_salary, test_salary = train_test_split(train_features, train_salaries, test_size=0.4, random_state=0)\n",
    "#train_features.head(10)\n",
    "#train_features['major'].apply(preprocessing.LabelEncoder().fit_transform)"
   ]
  },
  {
   "cell_type": "markdown",
   "metadata": {},
   "source": [
    "### Linear Regression"
   ]
  },
  {
   "cell_type": "code",
   "execution_count": 20,
   "metadata": {},
   "outputs": [
    {
     "name": "stdout",
     "output_type": "stream",
     "text": [
      "924.5124685515124\n"
     ]
    }
   ],
   "source": [
    "#brainstorm 3 models that you think may improve results over the baseline model based\n",
    "#on your \n",
    "linearL = linear_model.LinearRegression()\n",
    "linearL.fit(train_feature, train_salary['salary'])\n",
    "pred_salary = linearL.predict(test_feature);\n",
    "print(mean_squared_error(test_salary['salary'], pred_salary))"
   ]
  },
  {
   "cell_type": "markdown",
   "metadata": {},
   "source": [
    "### Decision Tree"
   ]
  },
  {
   "cell_type": "code",
   "execution_count": 21,
   "metadata": {},
   "outputs": [
    {
     "name": "stdout",
     "output_type": "stream",
     "text": [
      "711.8241282975824\n"
     ]
    }
   ],
   "source": [
    "dtree = DecisionTreeRegressor(random_state=0)\n",
    "dtree.fit(train_feature, train_salary['salary']);\n",
    "print(mean_squared_error(test_salary['salary'], dtree.predict(test_feature)))"
   ]
  },
  {
   "cell_type": "markdown",
   "metadata": {},
   "source": [
    "### Random Forest"
   ]
  },
  {
   "cell_type": "code",
   "execution_count": 37,
   "metadata": {},
   "outputs": [
    {
     "name": "stderr",
     "output_type": "stream",
     "text": [
      "//anaconda3/lib/python3.7/site-packages/sklearn/ensemble/forest.py:245: FutureWarning: The default value of n_estimators will change from 10 in version 0.20 to 100 in 0.22.\n",
      "  \"10 in version 0.20 to 100 in 0.22.\", FutureWarning)\n"
     ]
    },
    {
     "name": "stdout",
     "output_type": "stream",
     "text": [
      "587.7397842398915\n"
     ]
    }
   ],
   "source": [
    "random_forest = RandomForestRegressor(max_depth=6, random_state=0)\n",
    "random_forest.fit(train_feature, train_salary['salary'])\n",
    "print(mean_squared_error(test_salary['salary'], random_forest.predict(test_feature)))"
   ]
  },
  {
   "cell_type": "code",
   "execution_count": 41,
   "metadata": {},
   "outputs": [
    {
     "name": "stdout",
     "output_type": "stream",
     "text": [
      "MSE: 414.3443\n"
     ]
    }
   ],
   "source": [
    "# Fit regression model\n",
    "params = {'n_estimators': 500, 'max_depth': 4, 'min_samples_split': 2,\n",
    "          'learning_rate': 0.01, 'loss': 'ls'}\n",
    "clf = ensemble.GradientBoostingRegressor(**params)\n",
    "\n",
    "clf.fit(train_feature, train_salary['salary'])\n",
    "mse = mean_squared_error(test_salary['salary'], clf.predict(test_feature))\n",
    "print(\"MSE: %.4f\" % mse)"
   ]
  },
  {
   "cell_type": "code",
   "execution_count": 44,
   "metadata": {},
   "outputs": [
    {
     "name": "stdout",
     "output_type": "stream",
     "text": [
      "MSE: 414.3443\n"
     ]
    }
   ],
   "source": [
    "regr = AdaBoostRegressor(random_state=0, n_estimators=100)\n",
    "regr.fit(train_feature, train_salary['salary'])\n",
    "mse_regr = mean_squared_error(test_salary['salary'], regr.predict(test_feature))\n",
    "print(\"MSE: %.4f\" % mse)"
   ]
  },
  {
   "cell_type": "markdown",
   "metadata": {},
   "source": [
    "Brainstorm 3 models that you think may improve results over the baseline model based on your EDA and explain why they're reasonable solutions here.\n",
    "\n",
    "Also write down any new features that you think you should try adding to the model based on your EDA, e.g. interaction variables, summary statistics for each group, etc"
   ]
  },
  {
   "cell_type": "markdown",
   "metadata": {},
   "source": [
    "## Part 3 - DEVELOP"
   ]
  },
  {
   "cell_type": "markdown",
   "metadata": {},
   "source": [
    "You will cycle through creating features, tuning models, and training/validing models (steps 7-9) until you've reached your efficacy goal\n",
    "\n",
    "#### Your metric will be MSE and your goal is:\n",
    " - <360 for entry-level data science roles\n",
    " - <320 for senior data science roles"
   ]
  },
  {
   "cell_type": "markdown",
   "metadata": {},
   "source": [
    "### ---- 7 Engineer features  ----"
   ]
  },
  {
   "cell_type": "code",
   "execution_count": 22,
   "metadata": {},
   "outputs": [],
   "source": [
    "#make sure that data is ready for modeling\n",
    "#create any new features needed to potentially enhance model"
   ]
  },
  {
   "cell_type": "markdown",
   "metadata": {},
   "source": [
    "### ---- 8 Create models ----"
   ]
  },
  {
   "cell_type": "code",
   "execution_count": 23,
   "metadata": {},
   "outputs": [],
   "source": [
    "#create and tune the models that you brainstormed during part 2"
   ]
  },
  {
   "cell_type": "markdown",
   "metadata": {},
   "source": [
    "### ---- 9 Test models ----"
   ]
  },
  {
   "cell_type": "code",
   "execution_count": 24,
   "metadata": {},
   "outputs": [],
   "source": [
    "#do 5-fold cross validation on models and measure MSE"
   ]
  },
  {
   "cell_type": "markdown",
   "metadata": {},
   "source": [
    "### ---- 10 Select best model  ----"
   ]
  },
  {
   "cell_type": "code",
   "execution_count": 25,
   "metadata": {},
   "outputs": [],
   "source": [
    "#select the model with the lowest error as your \"prodcuction\" model"
   ]
  },
  {
   "cell_type": "markdown",
   "metadata": {},
   "source": [
    "## Part 4 - DEPLOY"
   ]
  },
  {
   "cell_type": "markdown",
   "metadata": {},
   "source": [
    "### ---- 11 Automate pipeline ----"
   ]
  },
  {
   "cell_type": "code",
   "execution_count": 26,
   "metadata": {},
   "outputs": [],
   "source": [
    "#write script that trains model on entire training set, saves model to disk,\n",
    "#and scores the \"test\" dataset"
   ]
  },
  {
   "cell_type": "markdown",
   "metadata": {},
   "source": [
    "### ---- 12 Deploy solution ----"
   ]
  },
  {
   "cell_type": "code",
   "execution_count": 27,
   "metadata": {},
   "outputs": [],
   "source": [
    "#save your prediction to a csv file or optionally save them as a table in a SQL database\n",
    "#additionally, you want to save a visualization and summary of your prediction and feature importances\n",
    "#these visualizations and summaries will be extremely useful to business stakeholders"
   ]
  },
  {
   "cell_type": "markdown",
   "metadata": {},
   "source": [
    "### ---- 13 Measure efficacy ----"
   ]
  },
  {
   "cell_type": "markdown",
   "metadata": {},
   "source": [
    "We'll skip this step since we don't have the outcomes for the test data"
   ]
  },
  {
   "cell_type": "code",
   "execution_count": null,
   "metadata": {},
   "outputs": [],
   "source": []
  },
  {
   "cell_type": "code",
   "execution_count": null,
   "metadata": {},
   "outputs": [],
   "source": []
  },
  {
   "cell_type": "code",
   "execution_count": null,
   "metadata": {},
   "outputs": [],
   "source": []
  },
  {
   "cell_type": "code",
   "execution_count": null,
   "metadata": {},
   "outputs": [],
   "source": []
  }
 ],
 "metadata": {
  "kernelspec": {
   "display_name": "Python 3",
   "language": "python",
   "name": "python3"
  },
  "language_info": {
   "codemirror_mode": {
    "name": "ipython",
    "version": 3
   },
   "file_extension": ".py",
   "mimetype": "text/x-python",
   "name": "python",
   "nbconvert_exporter": "python",
   "pygments_lexer": "ipython3",
   "version": "3.7.3"
  }
 },
 "nbformat": 4,
 "nbformat_minor": 2
}
